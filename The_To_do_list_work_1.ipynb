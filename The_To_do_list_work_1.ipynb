{
  "nbformat": 4,
  "nbformat_minor": 0,
  "metadata": {
    "colab": {
      "name": "The To do list work-1.ipynb",
      "provenance": [],
      "collapsed_sections": [],
      "authorship_tag": "ABX9TyNz301TuOGcXlCyYp1eln5I",
      "include_colab_link": true
    },
    "kernelspec": {
      "name": "python3",
      "display_name": "Python 3"
    }
  },
  "cells": [
    {
      "cell_type": "markdown",
      "metadata": {
        "id": "view-in-github",
        "colab_type": "text"
      },
      "source": [
        "<a href=\"https://colab.research.google.com/github/IsratShornaEla/machine-Learning-/blob/master/The_To_do_list_work_1.ipynb\" target=\"_parent\"><img src=\"https://colab.research.google.com/assets/colab-badge.svg\" alt=\"Open In Colab\"/></a>"
      ]
    },
    {
      "cell_type": "code",
      "metadata": {
        "id": "x1QEHqXBgGLV",
        "colab_type": "code",
        "colab": {
          "base_uri": "https://localhost:8080/",
          "height": 1000
        },
        "outputId": "b89de576-2c82-487b-ca56-358d03766589"
      },
      "source": [
        "data = []\n",
        "morework=['reading','playng','swiming']\n",
        "choice = 'random'\n",
        "\n",
        "def line():\n",
        "    print('---------------------------')\n",
        "\n",
        "def show_menu():\n",
        "    line()\n",
        "    print('MENU')\n",
        "    line()\n",
        "    print('1. Add item')\n",
        "    print('2. Mark one item as done')\n",
        "    print('3. View list')\n",
        "    print('4. Remove the last item ')\n",
        "    print('5. Mark all as done')\n",
        "    print('6. Add more work list')\n",
        "    print('7. Exit')\n",
        "\n",
        "    line()\n",
        "    choice = input('Enter your choice: ')\n",
        "    return choice\n",
        "\n",
        "while choice != '4':\n",
        "    choice = show_menu()\n",
        "    if choice == '1':\n",
        "        item = input('What is to be done? ')\n",
        "        data.append(item)\n",
        "        print('Item', item, 'added')\n",
        "    elif choice == '2':\n",
        "        item = input('What is to be marked as done? ')\n",
        "        if item in data:\n",
        "            data.remove(item)\n",
        "            print('Removed item', item)\n",
        "        else:\n",
        "            print('Could not find item', item)\n",
        "    elif choice == '3':\n",
        "        print('List of to-do items:')\n",
        "        for item in data:\n",
        "            print(item)\n",
        "    elif choice == '5':\n",
        "         data.clear()\n",
        "         print('All item removed')\n",
        "    elif choice == '6':\n",
        "         data.extend(morework) \n",
        "         print(\"More Work list has been added\")\n",
        "    elif choice == '4':\n",
        "         data.pop() \n",
        "         print(\"Last item has been removed\")       \n",
        "    elif choice == '7':\n",
        "        print('Goodbye!')\n",
        "    else:\n",
        "        print('Please enter one of 1, 2, 3 or 4')"
      ],
      "execution_count": null,
      "outputs": [
        {
          "output_type": "stream",
          "text": [
            "---------------------------\n",
            "MENU\n",
            "---------------------------\n",
            "1. Add item\n",
            "2. Mark one item as done\n",
            "3. View list\n",
            "4. Exit\n",
            "5. Mark all as done\n",
            "6. Add more work list\n",
            "7. Remove the last item \n",
            "---------------------------\n",
            "Enter your choice: 6\n",
            "More Work list has been added\n",
            "---------------------------\n",
            "MENU\n",
            "---------------------------\n",
            "1. Add item\n",
            "2. Mark one item as done\n",
            "3. View list\n",
            "4. Exit\n",
            "5. Mark all as done\n",
            "6. Add more work list\n",
            "7. Remove the last item \n",
            "---------------------------\n",
            "Enter your choice: 3\n",
            "List of to-do items:\n",
            "reading\n",
            "playng\n",
            "swiming\n",
            "---------------------------\n",
            "MENU\n",
            "---------------------------\n",
            "1. Add item\n",
            "2. Mark one item as done\n",
            "3. View list\n",
            "4. Exit\n",
            "5. Mark all as done\n",
            "6. Add more work list\n",
            "7. Remove the last item \n",
            "---------------------------\n",
            "Enter your choice: 7\n",
            "Last item has been removed\n",
            "---------------------------\n",
            "MENU\n",
            "---------------------------\n",
            "1. Add item\n",
            "2. Mark one item as done\n",
            "3. View list\n",
            "4. Exit\n",
            "5. Mark all as done\n",
            "6. Add more work list\n",
            "7. Remove the last item \n",
            "---------------------------\n",
            "Enter your choice: 3\n",
            "List of to-do items:\n",
            "reading\n",
            "playng\n",
            "---------------------------\n",
            "MENU\n",
            "---------------------------\n",
            "1. Add item\n",
            "2. Mark one item as done\n",
            "3. View list\n",
            "4. Exit\n",
            "5. Mark all as done\n",
            "6. Add more work list\n",
            "7. Remove the last item \n",
            "---------------------------\n",
            "Enter your choice: 4\n",
            "Goodbye!\n"
          ],
          "name": "stdout"
        }
      ]
    },
    {
      "cell_type": "code",
      "metadata": {
        "id": "nOJH8kgzClyp",
        "colab_type": "code",
        "colab": {}
      },
      "source": [
        ""
      ],
      "execution_count": null,
      "outputs": []
    }
  ]
}